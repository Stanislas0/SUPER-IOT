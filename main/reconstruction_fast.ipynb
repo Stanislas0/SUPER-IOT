{
 "cells": [
  {
   "cell_type": "code",
   "execution_count": 1,
   "metadata": {
    "ExecuteTime": {
     "end_time": "2020-04-22T03:43:46.064528Z",
     "start_time": "2020-04-22T03:43:46.059158Z"
    }
   },
   "outputs": [],
   "source": [
    "import warnings\n",
    "warnings.simplefilter(action='ignore', category=FutureWarning)\n",
    "warnings.simplefilter(action='ignore', category=UserWarning)"
   ]
  },
  {
   "cell_type": "code",
   "execution_count": 2,
   "metadata": {
    "ExecuteTime": {
     "end_time": "2020-04-22T03:43:48.511474Z",
     "start_time": "2020-04-22T03:43:46.683107Z"
    }
   },
   "outputs": [
    {
     "name": "stderr",
     "output_type": "stream",
     "text": [
      "Using TensorFlow backend.\n"
     ]
    }
   ],
   "source": [
    "import os\n",
    "import cv2\n",
    "import sys\n",
    "import pywt\n",
    "import random\n",
    "import itertools\n",
    "import numpy as np\n",
    "import matplotlib.pyplot as plt\n",
    "\n",
    "from PIL import Image\n",
    "from resnet import resnet\n",
    "from skimage.measure import compare_psnr, compare_ssim, compare_mse, compare_nrmse, shannon_entropy\n",
    "\n",
    "# Solve lib error\n",
    "os.environ['KMP_DUPLICATE_LIB_OK']='True'\n",
    "np.set_printoptions(threshold=sys.maxsize)"
   ]
  },
  {
   "cell_type": "code",
   "execution_count": 3,
   "metadata": {
    "ExecuteTime": {
     "end_time": "2020-04-22T03:43:48.516208Z",
     "start_time": "2020-04-22T03:43:48.513373Z"
    }
   },
   "outputs": [],
   "source": [
    "import rec_utils"
   ]
  },
  {
   "cell_type": "markdown",
   "metadata": {
    "ExecuteTime": {
     "end_time": "2020-04-12T09:15:04.079400Z",
     "start_time": "2020-04-12T09:15:04.076479Z"
    }
   },
   "source": [
    "# Load data"
   ]
  },
  {
   "cell_type": "code",
   "execution_count": 4,
   "metadata": {
    "ExecuteTime": {
     "end_time": "2020-04-22T03:43:49.493289Z",
     "start_time": "2020-04-22T03:43:49.489306Z"
    }
   },
   "outputs": [],
   "source": [
    "import keras\n",
    "from keras.datasets import cifar10"
   ]
  },
  {
   "cell_type": "code",
   "execution_count": 5,
   "metadata": {
    "ExecuteTime": {
     "end_time": "2020-04-22T03:43:50.245706Z",
     "start_time": "2020-04-22T03:43:49.894819Z"
    }
   },
   "outputs": [],
   "source": [
    "(x_train, y_train), (x_test, y_test) = cifar10.load_data()"
   ]
  },
  {
   "cell_type": "code",
   "execution_count": 6,
   "metadata": {
    "ExecuteTime": {
     "end_time": "2020-04-22T03:43:50.345343Z",
     "start_time": "2020-04-22T03:43:50.339221Z"
    }
   },
   "outputs": [],
   "source": [
    "y_train = keras.utils.to_categorical(y_train, 10)\n",
    "y_test = keras.utils.to_categorical(y_test, 10)"
   ]
  },
  {
   "cell_type": "markdown",
   "metadata": {},
   "source": [
    "# Reconstruction"
   ]
  },
  {
   "cell_type": "code",
   "execution_count": 7,
   "metadata": {
    "ExecuteTime": {
     "end_time": "2020-04-22T03:43:51.588547Z",
     "start_time": "2020-04-22T03:43:51.577250Z"
    }
   },
   "outputs": [],
   "source": [
    "def random_drop(img, ws, ratio):\n",
    "    h, w = img.shape[:2]\n",
    "    drop_map = np.zeros((h, w))\n",
    "    img_drop = img.copy()\n",
    "    for i, j in itertools.product(range(h // ws), range(w // ws)):\n",
    "        drop_index = random.sample(range(ws ** 2), np.int(np.round(ws ** 2 * ratio)))\n",
    "        for d in drop_index:\n",
    "            x, y = i * ws + d % ws, j * ws + d // ws\n",
    "            img_drop[x, y], drop_map[x, y] = 0, 1\n",
    "\n",
    "    return img_drop, drop_map"
   ]
  },
  {
   "cell_type": "code",
   "execution_count": 24,
   "metadata": {
    "ExecuteTime": {
     "end_time": "2020-04-22T03:47:00.102468Z",
     "start_time": "2020-04-22T03:47:00.085367Z"
    }
   },
   "outputs": [],
   "source": [
    "def image_recovery(img_drop, drop_map, ws, delta, mu):\n",
    "    h, w = img_drop.shape[:2]\n",
    "    img_rec = img_drop.copy()\n",
    "    for i, j in itertools.product(range(h // ws), range(w // ws)):\n",
    "        img1 = img_drop[i * ws:(i + 1) * ws, j * ws:(j + 1) * ws].copy()\n",
    "        img2 = img_drop[i * ws:(i + 1) * ws, j * ws:(j + 1) * ws].copy()\n",
    "        for k, l in itertools.product(range(ws), range(ws)):\n",
    "            if drop_map[i * ws + k, j * ws + l] == 1:\n",
    "                img1[k, l] = np.min((1.0, img1[k, l] + delta))\n",
    "                img2[k, l] = np.max((0.0, img1[k, l] - delta))\n",
    "                dct1 = cv2.dct(img1)\n",
    "                dct2 = cv2.dct(img2)\n",
    "                Y1 = np.sum(np.abs(dct1))\n",
    "                Y2 = np.sum(np.abs(dct2))\n",
    "                grad = (Y1 - Y2) / (2 * delta)\n",
    "                img_rec[i * ws + k, j * ws + l] -= mu * grad\n",
    "\n",
    "    return img_rec"
   ]
  },
  {
   "cell_type": "code",
   "execution_count": 9,
   "metadata": {
    "ExecuteTime": {
     "end_time": "2020-04-22T03:43:52.396411Z",
     "start_time": "2020-04-22T03:43:52.386005Z"
    }
   },
   "outputs": [],
   "source": [
    "def recovery_iter(img_drop, drop_map, ws, delta, mu, eps=1e-05, max_iters=100):\n",
    "    max_mse = 0\n",
    "    gamma = 0.01\n",
    "    img_rec_0 = img_drop.copy()\n",
    "    img_rec = np.zeros(img_drop.shape)\n",
    "    for i in range(max_iters):\n",
    "        for c in range(3):\n",
    "            img_rec[:, :, c] = image_recovery(img_rec_0[:, :, c], drop_map, ws, delta, mu)\n",
    "        img_rec = np.clip(img_rec, 0, 1)\n",
    "        mse = compare_mse(img_rec_0, img_rec)\n",
    "        if mse > max_mse:\n",
    "            max_mse = mse\n",
    "        elif mse < gamma * max_mse:\n",
    "            delta /= 10\n",
    "            mu /= 10\n",
    "            if mse < eps:\n",
    "                break\n",
    "            max_mse = mse\n",
    "\n",
    "        img_rec_0 = img_rec.copy()\n",
    "\n",
    "    return img_rec"
   ]
  },
  {
   "cell_type": "markdown",
   "metadata": {},
   "source": [
    "# Load model"
   ]
  },
  {
   "cell_type": "code",
   "execution_count": 10,
   "metadata": {
    "ExecuteTime": {
     "end_time": "2020-04-22T03:43:54.074174Z",
     "start_time": "2020-04-22T03:43:54.068723Z"
    }
   },
   "outputs": [],
   "source": [
    "def accuracy(pred, real):\n",
    "    return np.sum(np.argmax(pred, 1) == np.argmax(real, 1)) / pred.shape[0]"
   ]
  },
  {
   "cell_type": "code",
   "execution_count": 11,
   "metadata": {
    "ExecuteTime": {
     "end_time": "2020-04-22T03:44:00.195072Z",
     "start_time": "2020-04-22T03:43:55.250784Z"
    }
   },
   "outputs": [
    {
     "name": "stdout",
     "output_type": "stream",
     "text": [
      "WARNING:tensorflow:From /home/stanislas/anaconda3/lib/python3.7/site-packages/keras/backend/tensorflow_backend.py:4074: The name tf.nn.avg_pool is deprecated. Please use tf.nn.avg_pool2d instead.\n",
      "\n"
     ]
    }
   ],
   "source": [
    "model_path = \"../models/resnet29_cifar10.h5\"\n",
    "n = 3\n",
    "depth = n * 9 + 2\n",
    "input_shape = x_train.shape[1:]\n",
    "model = resnet(input_shape=input_shape, depth=depth, num_classes=10).build()\n",
    "model.load_weights(model_path)"
   ]
  },
  {
   "cell_type": "markdown",
   "metadata": {},
   "source": [
    "# Cifar10 test"
   ]
  },
  {
   "cell_type": "code",
   "execution_count": 50,
   "metadata": {
    "ExecuteTime": {
     "end_time": "2020-04-22T03:48:14.077642Z",
     "start_time": "2020-04-22T03:48:14.072871Z"
    }
   },
   "outputs": [],
   "source": [
    "ratio = 0.1\n",
    "window_size = 4\n",
    "delta = 0.03 # 10 / 255\n",
    "mu = 0.02 # 5 / 255"
   ]
  },
  {
   "cell_type": "code",
   "execution_count": 51,
   "metadata": {
    "ExecuteTime": {
     "end_time": "2020-04-22T03:48:14.451531Z",
     "start_time": "2020-04-22T03:48:14.447125Z"
    }
   },
   "outputs": [],
   "source": [
    "test_id = 2\n",
    "test_img = x_test[test_id].astype('float32') / 255"
   ]
  },
  {
   "cell_type": "code",
   "execution_count": 52,
   "metadata": {
    "ExecuteTime": {
     "end_time": "2020-04-22T03:48:14.896310Z",
     "start_time": "2020-04-22T03:48:14.815633Z"
    }
   },
   "outputs": [
    {
     "data": {
      "image/png": "[encoded data removed]",
      "text/plain": [
       "<Figure size 432x288 with 1 Axes>"
      ]
     },
     "metadata": {
      "needs_background": "light"
     },
     "output_type": "display_data"
    }
   ],
   "source": [
    "plt.imshow(test_img)\n",
    "plt.axis('off')\n",
    "plt.show()"
   ]
  },
  {
   "cell_type": "code",
   "execution_count": 53,
   "metadata": {
    "ExecuteTime": {
     "end_time": "2020-04-22T03:48:15.302114Z",
     "start_time": "2020-04-22T03:48:15.296149Z"
    }
   },
   "outputs": [],
   "source": [
    "test_img_drop, test_drop_map = rec_utils.random_drop(test_img, window_size, ratio)"
   ]
  },
  {
   "cell_type": "code",
   "execution_count": 54,
   "metadata": {
    "ExecuteTime": {
     "end_time": "2020-04-22T03:48:16.120328Z",
     "start_time": "2020-04-22T03:48:15.832973Z"
    }
   },
   "outputs": [],
   "source": [
    "test_img_rec = rec_utils.recovery_iter(test_img_drop, test_drop_map, window_size, delta, mu, max_iters=100)"
   ]
  },
  {
   "cell_type": "code",
   "execution_count": 55,
   "metadata": {
    "ExecuteTime": {
     "end_time": "2020-04-22T03:48:16.756484Z",
     "start_time": "2020-04-22T03:48:16.699253Z"
    }
   },
   "outputs": [
    {
     "data": {
      "image/png": "[encoded data removed]",
      "text/plain": [
       "<Figure size 432x288 with 1 Axes>"
      ]
     },
     "metadata": {
      "needs_background": "light"
     },
     "output_type": "display_data"
    }
   ],
   "source": [
    "plt.imshow(test_img_rec)\n",
    "plt.axis('off')\n",
    "plt.show()"
   ]
  },
  {
   "cell_type": "code",
   "execution_count": 56,
   "metadata": {
    "ExecuteTime": {
     "end_time": "2020-04-22T03:48:17.235858Z",
     "start_time": "2020-04-22T03:48:17.229622Z"
    }
   },
   "outputs": [
    {
     "data": {
      "text/plain": [
       "31.89631234937734"
      ]
     },
     "execution_count": 56,
     "metadata": {},
     "output_type": "execute_result"
    }
   ],
   "source": [
    "compare_psnr(test_img, test_img_rec)"
   ]
  },
  {
   "cell_type": "code",
   "execution_count": 57,
   "metadata": {
    "ExecuteTime": {
     "end_time": "2020-04-22T03:48:18.774549Z",
     "start_time": "2020-04-22T03:48:18.051216Z"
    }
   },
   "outputs": [],
   "source": [
    "test_img_rec = recovery_iter(test_img_drop, test_drop_map, window_size, delta, mu, max_iters=100)"
   ]
  },
  {
   "cell_type": "code",
   "execution_count": 58,
   "metadata": {
    "ExecuteTime": {
     "end_time": "2020-04-22T03:48:19.229859Z",
     "start_time": "2020-04-22T03:48:19.224574Z"
    }
   },
   "outputs": [
    {
     "data": {
      "text/plain": [
       "31.316414455158117"
      ]
     },
     "execution_count": 58,
     "metadata": {},
     "output_type": "execute_result"
    }
   ],
   "source": [
    "compare_psnr(test_img, test_img_rec)"
   ]
  },
  {
   "cell_type": "markdown",
   "metadata": {},
   "source": [
    "# Time comparison"
   ]
  },
  {
   "cell_type": "code",
   "execution_count": 419,
   "metadata": {
    "ExecuteTime": {
     "end_time": "2020-04-21T10:34:11.658723Z",
     "start_time": "2020-04-21T10:33:59.727892Z"
    }
   },
   "outputs": [
    {
     "name": "stdout",
     "output_type": "stream",
     "text": [
      "147 ms ± 421 µs per loop (mean ± std. dev. of 7 runs, 10 loops each)\n"
     ]
    }
   ],
   "source": [
    "%timeit test_img_rec = rec_utils.recovery_iter(test_img_drop, test_drop_map, window_size, delta, mu, max_iters=100)"
   ]
  },
  {
   "cell_type": "code",
   "execution_count": 420,
   "metadata": {
    "ExecuteTime": {
     "end_time": "2020-04-21T10:34:20.391661Z",
     "start_time": "2020-04-21T10:34:13.558962Z"
    }
   },
   "outputs": [
    {
     "name": "stdout",
     "output_type": "stream",
     "text": [
      "8.39 ms ± 120 µs per loop (mean ± std. dev. of 7 runs, 100 loops each)\n"
     ]
    }
   ],
   "source": [
    "%timeit pred = model.predict(np.expand_dims(test_img_rec, axis=0))"
   ]
  },
  {
   "cell_type": "code",
   "execution_count": null,
   "metadata": {},
   "outputs": [],
   "source": []
  }
 ],
 "metadata": {
  "kernelspec": {
   "display_name": "Python 3",
   "language": "python",
   "name": "python3"
  },
  "language_info": {
   "codemirror_mode": {
    "name": "ipython",
    "version": 3
   },
   "file_extension": ".py",
   "mimetype": "text/x-python",
   "name": "python",
   "nbconvert_exporter": "python",
   "pygments_lexer": "ipython3",
   "version": "3.7.4"
  },
  "toc": {
   "base_numbering": 1,
   "nav_menu": {},
   "number_sections": false,
   "sideBar": true,
   "skip_h1_title": false,
   "title_cell": "Table of Contents",
   "title_sidebar": "Contents",
   "toc_cell": false,
   "toc_position": {},
   "toc_section_display": true,
   "toc_window_display": false
  }
 },
 "nbformat": 4,
 "nbformat_minor": 4
}
